{
 "cells": [
  {
   "cell_type": "markdown",
   "metadata": {},
   "source": [
    "This notebook illustrates how to use *FastHR* to estimate the hardness ratio (HR) and its cumulative distribution function (CDF) for an X-ray source (or any source with Poisson nature). HR is defined as $(\\lambda_H-\\lambda_S)/(\\lambda_H+\\lambda_S)$, where $\\lambda_S$ and $\\lambda_H$ are the soft-band (SB) and hard-band (HB) count rates, respectively. *FastHR* implements a Bayesian approach. Each count rate needs two parameters (denoted as $\\psi_\\bullet$) specifying its prior; For example, $(\\psi_{S1}, \\psi_{S2})$ are the prior parameters for $\\lambda_S$. The SB and HB are assumed to be independent. More details are explained in Appendix A of Zou et al. (2023).\n",
    "\n",
    "Let's work through an example."
   ]
  },
  {
   "cell_type": "code",
   "execution_count": 1,
   "metadata": {},
   "outputs": [],
   "source": [
    "# load relevant pacakges\n",
    "from fasthr.main import *\n",
    "from IPython import display\n",
    "import matplotlib.pyplot as plt\n",
    "import numpy as np\n",
    "import timeit"
   ]
  },
  {
   "cell_type": "markdown",
   "metadata": {},
   "source": [
    "# Preparation step\n",
    "\n",
    "In the very first step, we need to generate an external table (I will call it `lnI`), which is independent of your data.\n",
    "\n",
    "You need to specify the following parameters:<br>\n",
    "`nmax`: the upper bound of SB counts.<br>\n",
    "`mmax`: the upper bound of HB counts.<br>\n",
    "`psi1_S`: $\\psi_{S1}$, the first parameter of the $\\lambda_S$ prior.<br>\n",
    "`psi1_H`: $\\psi_{H1}$, the first parameter of the $\\lambda_H$ prior.<br>\n",
    "`ygrid`: the `y` grid. `y` is a parameter transformed from HR and ranges between 0 and 1.\n",
    "\n",
    "**Notes:**\n",
    "* You don't need to know what `y` and `lnI` exactly are to master *FastHR*. Only two things should be kept in mind for `y`. First, the `ygrid` size equals the size of the HR grid on which you want to evaluate the HR CDF; second, `ygrid` should contain 0 and 1. A straightforward way of generating `ygrid` is using `np.linspace(0., 1., ...)`.\n",
    "* You must ensure that your input observed SB and HB counts within the source region later on do not exceed `nmax` and `mmax`, respectively. As long as this requirement is satisfied, increasing `nmax` and `mmax` won't change your results.\n",
    "* Since `lnI` is independent of your data, you only need to generate it once, no matter how many sources you have. Also, you can save it onto your disk so that you won't need to re-generate it later.\n",
    "* `lnI` could consume lots of memory if your `nmax`, `mmax`, and/or `ygrid` size are too large. Try making these numbers smaller if you face memory problems. I don't think this is a real problem in most cases because, after all, you don't need to use *FastHR* if your source has 10,000 counts."
   ]
  },
  {
   "cell_type": "code",
   "execution_count": 2,
   "metadata": {},
   "outputs": [
    {
     "name": "stdout",
     "output_type": "stream",
     "text": [
      "Tabulating lnI, time: 1.68s\n"
     ]
    },
    {
     "name": "stderr",
     "output_type": "stream",
     "text": [
      "/Users/zoufan/opt/anaconda3/lib/python3.8/site-packages/fasthr/main.py:22: RuntimeWarning: divide by zero encountered in log\n",
      "  return np.log(special.betainc(mm + psi1_H, nn + psi1_S, yy))\n"
     ]
    }
   ],
   "source": [
    "# set the parameters.\n",
    "nmax = 200\n",
    "mmax = 200\n",
    "psi1_S = 1.\n",
    "psi1_H = 1.\n",
    "ygrid = np.linspace(0., 1., 200)\n",
    "\n",
    "# generate the external table lnI using the tabul_lnI function.\n",
    "# the parameters of tabul_lnI is (nmax, mmax, ygrid, psi1_S, psi1_H).\n",
    "# this may take some time.\n",
    "# It's totally okay if you get the following warning:\n",
    "#    \"RuntimeWarning: divide by zero encountered in log\n",
    "#    return np.log(special.betainc(mm + psi1_H, nn + psi1_S, yy))\"\n",
    "time_start = timeit.default_timer()\n",
    "lnI = tabul_lnI(nmax, mmax, ygrid, psi1_S, psi1_H)\n",
    "print(\"Tabulating lnI, time: %.2fs\" % (timeit.default_timer() - time_start))"
   ]
  },
  {
   "cell_type": "markdown",
   "metadata": {},
   "source": [
    "If you already have `ygrid` and `lnI` saved before, you can load them using the `generate_lnI` function, which also enables you to reset the grid size of `ygrid` and the corresponding `lnI`."
   ]
  },
  {
   "cell_type": "code",
   "execution_count": 3,
   "metadata": {},
   "outputs": [],
   "source": [
    "# you could save the original ygrid and lnI.\n",
    "ygrid_file_name = \"ygrid_Smax{}_Hmax{}_psi1S{}_psi1H{}.npy\".format(nmax, mmax, psi1_S, psi1_H)\n",
    "lnI_file_name = \"lnI_Smax{}_Hmax{}_psi1S{}_psi1H{}.npy\".format(nmax, mmax, psi1_S, psi1_H)\n",
    "np.save(ygrid_file_name, ygrid)\n",
    "np.save(lnI_file_name, lnI)\n",
    "\n",
    "# the parameters of generate_lnI are\n",
    "# 1. the desired new grid size of y, which must be at least 2 and does not exceed the original ygrid size.\n",
    "# 2. the .npy file path of ygrid.\n",
    "# 3. the .npy file path of lnI\n",
    "# below, I create new ygrid and lnI, where the new ygrid sizes 100 instead of 200.\n",
    "ygrid, lnI = generate_lnI(100, ygrid_file_name, lnI_file_name)"
   ]
  },
  {
   "cell_type": "markdown",
   "metadata": {},
   "source": [
    "# Input data and do the calculation\n",
    "\n",
    "We even haven't specified other prior parameters, $\\psi_{S2}$ and $\\psi_{H2}$. Let's do it right now."
   ]
  },
  {
   "cell_type": "code",
   "execution_count": 4,
   "metadata": {},
   "outputs": [],
   "source": [
    "psi2_S = 0.\n",
    "psi2_H = 0."
   ]
  },
  {
   "cell_type": "markdown",
   "metadata": {},
   "source": [
    "Now I am going to ask you a question: do you accurately know the mean background intensity? *Yes* and *No* are both common answers. Depending upon your answer, we need to adopt slightly different approaches.\n",
    "\n",
    "### The *Yes* Case: you assume that the mean background intensity is accurately known."
   ]
  },
  {
   "cell_type": "code",
   "execution_count": 5,
   "metadata": {},
   "outputs": [],
   "source": [
    "# set up the data\n",
    "# (I just made up some data)\n",
    "S = 20 # total soft-band counts in the source region\n",
    "H = 15 # total hard-band counts in the source region\n",
    "e_S = 1. # soft-band exposure time\n",
    "e_H = 1. # hard-band exposure time\n",
    "xi_S = 10 # the expected soft-band background count rate in the source region\n",
    "xi_H = 10 # the expected hard-band background count rate in the source region\n",
    "\n",
    "# first, input the data and prior parameters.\n",
    "# the input parameters are (S, H, e_S, e_H, psi1_S, psi2_S, psi1_H, psi2_H, xi_S = xi_S, xi_H = xi_H).\n",
    "myhr = fasthr(S, H, e_S, e_H, psi1_S, psi2_S, psi1_H, psi2_H, xi_S = xi_S, xi_H = xi_H)\n",
    "\n",
    "# second, initialize it by calling the init_hrcdf method.\n",
    "# we need specify your answer on the background in this step.\n",
    "# since your answer is \"yes\", input \"fixed\", as shown below.\n",
    "myhr.init_hrcdf(\"fixed\")\n",
    "\n",
    "# third, do the calculation using calc_hrcdf.\n",
    "# it requires two parameters - ygrid and lnI, which are generated in the Preparation step at the beginning.\n",
    "# you should ensure that the psi1_S and psi1_H that are used to generate ygrid and lnI are the same\n",
    "#     as the input psi1_S and psi1_H to myhr.\n",
    "# the function returns (hrgrid, cdfgrid).\n",
    "#     hrgrid: the HR grid between -1 and 1.\n",
    "#     cdfgrid: the posterior CDF evaluated on the HR grid.\n",
    "hrgrid, cdfgrid = myhr.calc_hrcdf(ygrid, lnI)"
   ]
  },
  {
   "cell_type": "markdown",
   "metadata": {},
   "source": [
    "You can extract further information from `hrgrid` and `cdfgrid`, as exampled below."
   ]
  },
  {
   "cell_type": "code",
   "execution_count": 6,
   "metadata": {},
   "outputs": [
    {
     "data": {
      "text/latex": [
       "$\\displaystyle \\mathrm{HR}=-0.29_{-0.34}^{+0.36}$"
      ],
      "text/plain": [
       "<IPython.core.display.Math object>"
      ]
     },
     "metadata": {},
     "output_type": "display_data"
    },
    {
     "data": {
      "image/png": "[encoded data removed]",
      "text/plain": [
       "<Figure size 432x288 with 1 Axes>"
      ]
     },
     "metadata": {
      "needs_background": "light"
     },
     "output_type": "display_data"
    }
   ],
   "source": [
    "# print the median HR and certainty.\n",
    "lower_err, median, upper_err = np.interp([0.16, 0.5, 0.84], cdfgrid, hrgrid)\n",
    "display.display(display.Math(\"\\mathrm{{HR}}={0:.2f}_{{-{1:.2f}}}^{{+{2:.2f}}}\"\\\n",
    "    .format(median, median - lower_err, upper_err - median)))\n",
    "\n",
    "# plot the HR CDF.\n",
    "plt.plot(hrgrid, cdfgrid)\n",
    "plt.xlabel(\"HR\", fontsize = 15.)\n",
    "plt.ylabel(\"CDF\", fontsize = 15.)\n",
    "plt.xticks(np.linspace(-1., 1., 5), fontsize = 15.)\n",
    "plt.yticks(fontsize = 15.)\n",
    "plt.xlim(-1., 1.)\n",
    "plt.ylim(0., 1.)\n",
    "plt.show()"
   ]
  },
  {
   "cell_type": "markdown",
   "metadata": {},
   "source": [
    "### The *No* Case: the mean background intensity is not accurately known.\n",
    "\n",
    "In this case, you need to estimate the background intensity together with the source intensity, and thus the input background data is slightly different from the *Yes* Case."
   ]
  },
  {
   "cell_type": "code",
   "execution_count": 7,
   "metadata": {},
   "outputs": [
    {
     "data": {
      "text/latex": [
       "$\\displaystyle \\mathrm{HR}=-0.28_{-0.36}^{+0.38}$"
      ],
      "text/plain": [
       "<IPython.core.display.Math object>"
      ]
     },
     "metadata": {},
     "output_type": "display_data"
    }
   ],
   "source": [
    "# set up the data\n",
    "# (I just made up some data)\n",
    "S = 20 # total soft-band counts in the source region\n",
    "H = 15 # total hard-band counts in the source region\n",
    "e_S = 1. # soft-band exposure time\n",
    "e_H = 1. # hard-band exposure time\n",
    "B_S = 50 # soft-band counts in the background region.\n",
    "B_H = 50 # hard-band counts in the background region.\n",
    "psi3_S, psi4_S = 1., 0. # parameters of the background soft-band count-rate priors.\n",
    "psi3_H, psi4_H = 1., 0. # parameters of the background hard-band count-rate priors.\n",
    "r_S = 5. # the soft-band ratio between the background-region area and the source-region area.\n",
    "r_H = 5. # the hard-band ratio between the background-region area and the source-region area.\n",
    "\n",
    "# input the data and prior parameters.\n",
    "myhr = fasthr(S, H, e_S, e_H, psi1_S, psi2_S, psi1_H, psi2_H,\n",
    "              B_S = B_S, B_H = B_H,\n",
    "              psi3_S = psi3_S, psi4_S = psi4_S,\n",
    "              psi3_H = psi3_H, psi4_H = psi4_H,\n",
    "              r_S = r_S, r_H = r_H)\n",
    "\n",
    "# initialization. Note that you should input \"unfixed\" for the \"No\" Case here.\n",
    "myhr.init_hrcdf(\"unfixed\")\n",
    "\n",
    "# do the calculation.\n",
    "hrgrid, cdfgrid = myhr.calc_hrcdf(ygrid, lnI)\n",
    "\n",
    "# print the median HR and certainty.\n",
    "lower_err, median, upper_err = np.interp([0.16, 0.5, 0.84], cdfgrid, hrgrid)\n",
    "display.display(display.Math(\"\\mathrm{{HR}}={0:.2f}_{{-{1:.2f}}}^{{+{2:.2f}}}\"\\\n",
    "    .format(median, median - lower_err, upper_err - median)))"
   ]
  },
  {
   "cell_type": "code",
   "execution_count": null,
   "metadata": {},
   "outputs": [],
   "source": []
  }
 ],
 "metadata": {
  "kernelspec": {
   "display_name": "Python 3",
   "language": "python",
   "name": "python3"
  },
  "language_info": {
   "codemirror_mode": {
    "name": "ipython",
    "version": 3
   },
   "file_extension": ".py",
   "mimetype": "text/x-python",
   "name": "python",
   "nbconvert_exporter": "python",
   "pygments_lexer": "ipython3",
   "version": "3.8.5"
  }
 },
 "nbformat": 4,
 "nbformat_minor": 4
}
